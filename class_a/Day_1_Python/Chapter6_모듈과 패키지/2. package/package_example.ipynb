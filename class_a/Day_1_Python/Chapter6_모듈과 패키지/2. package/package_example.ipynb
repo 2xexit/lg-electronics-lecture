{
 "cells": [
  {
   "cell_type": "markdown",
   "metadata": {
    "colab_type": "text",
    "id": "hG4ik-fNxRRG"
   },
   "source": [
    "# 1. 모듈 Import 방법"
   ]
  },
  {
   "cell_type": "markdown",
   "metadata": {
    "colab_type": "text",
    "id": "ZiKRjMzjxRRK"
   },
   "source": [
    "1)"
   ]
  },
  {
   "cell_type": "code",
   "execution_count": null,
   "metadata": {
    "colab": {},
    "colab_type": "code",
    "id": "6T77hLyPxRRM",
    "outputId": "6064acba-84cf-4cc1-a81f-dafc3b066b1a"
   },
   "outputs": [],
   "source": [
    "from game.sound import echo\n",
    "echo.echo_test()"
   ]
  },
  {
   "cell_type": "markdown",
   "metadata": {
    "colab_type": "text",
    "id": "Rimci4KpxRRa"
   },
   "source": [
    "2)"
   ]
  },
  {
   "cell_type": "code",
   "execution_count": null,
   "metadata": {
    "colab": {},
    "colab_type": "code",
    "id": "u66Mk2W_xRRb",
    "outputId": "5c79230c-8841-4195-eecf-57dc2f8ed204"
   },
   "outputs": [],
   "source": [
    "from game.sound.echo import echo_test\n",
    "echo_test()"
   ]
  },
  {
   "cell_type": "markdown",
   "metadata": {
    "colab_type": "text",
    "id": "8miZ_0PoxRRg"
   },
   "source": [
    "3)"
   ]
  },
  {
   "cell_type": "code",
   "execution_count": null,
   "metadata": {
    "colab": {},
    "colab_type": "code",
    "id": "SYaLSRojxRRh",
    "outputId": "19eec53b-d4c6-4cbb-f28e-a0fcdafc89ee"
   },
   "outputs": [],
   "source": [
    "import game\n",
    "game.sound.echo.echo_test()"
   ]
  },
  {
   "cell_type": "markdown",
   "metadata": {
    "colab_type": "text",
    "id": "GZxswnU6xRRl"
   },
   "source": [
    "4)"
   ]
  },
  {
   "cell_type": "code",
   "execution_count": null,
   "metadata": {
    "colab": {},
    "colab_type": "code",
    "id": "c98NSsxHxRRn",
    "outputId": "658f757d-c108-4dc6-be47-c901bd9a6abc"
   },
   "outputs": [],
   "source": [
    "import game.sound.echo\n",
    "game.sound.echo.echo_test()"
   ]
  },
  {
   "cell_type": "markdown",
   "metadata": {
    "colab_type": "text",
    "id": "__DlwpiTxRRr"
   },
   "source": [
    "3)은 오류가 발생한다. 모듈을 import 하기 위해서는 모듈이 포함되도록 import를 진행해야만 한다. 따라서 echo모듈을 사용하기 위해서는 echo 모듈이 포함되도록 1번, 2번, 4번과 같은 방법으로 import를 해 주어야만 한다."
   ]
  }
 ],
 "metadata": {
  "colab": {
   "name": "package_example.ipynb",
   "provenance": [],
   "version": "0.3.2"
  },
  "kernelspec": {
   "display_name": "Python 3",
   "language": "python",
   "name": "python3"
  }
 },
 "nbformat": 4,
 "nbformat_minor": 1
}
