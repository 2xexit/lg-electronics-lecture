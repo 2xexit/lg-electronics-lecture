{
 "cells": [
  {
   "cell_type": "markdown",
   "metadata": {},
   "source": [
    "# Chapter 6, 7 문제 풀이"
   ]
  },
  {
   "cell_type": "markdown",
   "metadata": {},
   "source": [
    "## 문제 6 - 하위 디렉토리 .py 파일 출력하기"
   ]
  },
  {
   "cell_type": "code",
   "execution_count": 22,
   "metadata": {},
   "outputs": [],
   "source": [
    "import os\n",
    "\n",
    "def search(dirname):\n",
    "    filenames = os.listdir(dirname)\n",
    "    for filename in filenames:\n",
    "        full_filename = os.path.join(dirname, filename)\n",
    "        ext = os.path.splitext(full_filename)[-1]\n",
    "        if ext == '.py': \n",
    "            print(full_filename)\n",
    "\n",
    "search(\"./\")"
   ]
  },
  {
   "cell_type": "code",
   "execution_count": 23,
   "metadata": {},
   "outputs": [
    {
     "name": "stdout",
     "output_type": "stream",
     "text": [
      "./Ch_6_모듈과 패키지\\1. module\\main.py\n",
      "./Ch_6_모듈과 패키지\\1. module\\module.py\n",
      "./Ch_6_모듈과 패키지\\2. package\\argv_test.py\n",
      "./Ch_6_모듈과 패키지\\2. package\\game\\graphic\\render.py\n",
      "./Ch_6_모듈과 패키지\\2. package\\game\\graphic\\screen.py\n",
      "./Ch_6_모듈과 패키지\\2. package\\game\\graphic\\__init__.py\n",
      "./Ch_6_모듈과 패키지\\2. package\\game\\play\\run.py\n",
      "./Ch_6_모듈과 패키지\\2. package\\game\\play\\test.py\n",
      "./Ch_6_모듈과 패키지\\2. package\\game\\play\\__init__.py\n",
      "./Ch_6_모듈과 패키지\\2. package\\game\\sound\\echo.py\n",
      "./Ch_6_모듈과 패키지\\2. package\\game\\sound\\wav.py\n",
      "./Ch_6_모듈과 패키지\\2. package\\game\\sound\\__init__.py\n"
     ]
    }
   ],
   "source": [
    "import os\n",
    "\n",
    "def search(dirname):\n",
    "    try:\n",
    "        filenames = os.listdir(dirname)\n",
    "        for filename in filenames:\n",
    "            full_filename = os.path.join(dirname, filename)\n",
    "            if os.path.isdir(full_filename):# Directory 인 경우 하위폴더로 접근\n",
    "                search(full_filename)\n",
    "            else:\n",
    "                ext = os.path.splitext(full_filename)[-1]\n",
    "                if ext == '.py': \n",
    "                    print(full_filename)\n",
    "    except PermissionError:\n",
    "        pass\n",
    "\n",
    "search(\"./\")"
   ]
  }
 ],
 "metadata": {
  "kernelspec": {
   "display_name": "Python 3",
   "language": "python",
   "name": "python3"
  },
  "language_info": {
   "codemirror_mode": {
    "name": "ipython",
    "version": 3
   },
   "file_extension": ".py",
   "mimetype": "text/x-python",
   "name": "python",
   "nbconvert_exporter": "python",
   "pygments_lexer": "ipython3",
   "version": "3.5.3"
  }
 },
 "nbformat": 4,
 "nbformat_minor": 2
}
