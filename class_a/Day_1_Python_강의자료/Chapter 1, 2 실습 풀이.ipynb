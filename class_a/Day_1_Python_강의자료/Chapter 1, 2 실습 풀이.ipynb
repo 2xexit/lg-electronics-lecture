{
 "cells": [
  {
   "cell_type": "markdown",
   "metadata": {},
   "source": [
    "# Chapter 1, 2 실습 풀이"
   ]
  },
  {
   "cell_type": "markdown",
   "metadata": {},
   "source": [
    "## 문제1 합의 제곱과 제곱의 합의 차"
   ]
  },
  {
   "cell_type": "code",
   "execution_count": 1,
   "metadata": {},
   "outputs": [
    {
     "name": "stdout",
     "output_type": "stream",
     "text": [
      "25164150\n"
     ]
    }
   ],
   "source": [
    "sum1 = 0\n",
    "sum2 = 0\n",
    "\n",
    "for i in range(1, 100+1):\n",
    "    sum1 += i\n",
    "    sum2 += i**2  # 제곱의 합\n",
    "\n",
    "sum1 = sum1 ** 2  # 합의 제곱\n",
    "\n",
    "print(sum1 - sum2)"
   ]
  },
  {
   "cell_type": "markdown",
   "metadata": {},
   "source": [
    "<hr>"
   ]
  },
  {
   "cell_type": "markdown",
   "metadata": {},
   "source": [
    "## 문제2 1부터 100까지의 각 숫자의 갯수 구하기\n"
   ]
  },
  {
   "cell_type": "code",
   "execution_count": 11,
   "metadata": {},
   "outputs": [
    {
     "name": "stdout",
     "output_type": "stream",
     "text": [
      "{'3': 20, '6': 20, '0': 11, '9': 20, '7': 20, '2': 20, '4': 20, '5': 20, '1': 21, '8': 20}\n",
      "<class 'float'>\n"
     ]
    },
    {
     "data": {
      "text/plain": [
       "123"
      ]
     },
     "execution_count": 11,
     "metadata": {},
     "output_type": "execute_result"
    }
   ],
   "source": [
    "#from collections import defaultdict\n",
    "\n",
    "#d = defaultdict(int)\n",
    "d = {'0':0, '1':0, '2':0, '3':0, '4':0, '5':0, '6':0, '7':0, '8':0, '9':0,}\n",
    "for number in range(1, 100+1):\n",
    "    for c in str(number):  \n",
    "        d[c] += 1\n",
    "\n",
    "print(dict(d))"
   ]
  }
 ],
 "metadata": {
  "kernelspec": {
   "display_name": "Python 3",
   "language": "python",
   "name": "python3"
  },
  "language_info": {
   "codemirror_mode": {
    "name": "ipython",
    "version": 3
   },
   "file_extension": ".py",
   "mimetype": "text/x-python",
   "name": "python",
   "nbconvert_exporter": "python",
   "pygments_lexer": "ipython3",
   "version": "3.5.3"
  }
 },
 "nbformat": 4,
 "nbformat_minor": 2
}
