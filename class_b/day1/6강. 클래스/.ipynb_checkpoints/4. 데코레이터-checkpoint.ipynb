{
 "cells": [
  {
   "cell_type": "markdown",
   "metadata": {},
   "source": [
    "참고: Python Cookbook"
   ]
  },
  {
   "cell_type": "markdown",
   "metadata": {},
   "source": [
    "메타프로그래밍이란 코드를 다루는(수정, 생성, 기존 코드 감싸기 등) 함수나 클래스를 만드는 것을 가리킨다. 주요 기능에는 데코레이터, 클래스 데코레이터, 메타클래스가 포함된다. "
   ]
  },
  {
   "cell_type": "markdown",
   "metadata": {},
   "source": [
    "# 데코레이터"
   ]
  },
  {
   "cell_type": "markdown",
   "metadata": {},
   "source": [
    "1. 함수에 추가적인 처리(로깅, 타이밍 등)을 하는 Wrapper Layer를 넣고 싶다."
   ]
  },
  {
   "cell_type": "code",
   "execution_count": 1,
   "metadata": {},
   "outputs": [],
   "source": [
    "import time\n",
    "from functools import wraps\n",
    "\n",
    "def timethis(func):\n",
    "    '''\n",
    "    실행 시간을 보고하는 데코레이터\n",
    "    '''\n",
    "    \n",
    "    @wraps(func)\n",
    "    def wrapper(*args, **kwargs):\n",
    "        start = time.time()\n",
    "        result = func(*args, **kwargs)\n",
    "        end = time.time()\n",
    "        print(func.__name__, end-start)\n",
    "        return result\n",
    "    return wrapper"
   ]
  },
  {
   "cell_type": "code",
   "execution_count": 2,
   "metadata": {},
   "outputs": [],
   "source": [
    "@timethis\n",
    "def countdown(n):\n",
    "    '''\n",
    "    Count down\n",
    "    '''\n",
    "    while n > 0:\n",
    "        n -= 1"
   ]
  },
  {
   "cell_type": "code",
   "execution_count": 3,
   "metadata": {},
   "outputs": [
    {
     "name": "stdout",
     "output_type": "stream",
     "text": [
      "countdown 0.0005731582641601562\n"
     ]
    }
   ],
   "source": [
    "countdown(10000)"
   ]
  },
  {
   "cell_type": "markdown",
   "metadata": {},
   "source": [
    "- 데코레이터는 입력으로 함수를 받고 새로운 함수를 반환한다."
   ]
  },
  {
   "cell_type": "code",
   "execution_count": 10,
   "metadata": {},
   "outputs": [],
   "source": [
    "@timethis\n",
    "def countdown(n):\n",
    "    pass\n",
    "    \n",
    "def countdown(n):\n",
    "    countdown = timethis(countdown)\n",
    "    pass"
   ]
  },
  {
   "cell_type": "markdown",
   "metadata": {},
   "source": [
    "- 위 두 가지의 코드는 같다."
   ]
  },
  {
   "cell_type": "markdown",
   "metadata": {},
   "source": [
    "2. @classmethod, @staticmethod, @property와 같은 데코레이터도 동일하게 동작한다."
   ]
  },
  {
   "cell_type": "code",
   "execution_count": 11,
   "metadata": {},
   "outputs": [],
   "source": [
    "class A:\n",
    "    @classmethod\n",
    "    def method(cls):\n",
    "        pass\n",
    "    \n",
    "class B:\n",
    "    def method(cls):\n",
    "        pass\n",
    "    \n",
    "    method = classmethod(method)"
   ]
  },
  {
   "cell_type": "markdown",
   "metadata": {},
   "source": [
    "- 위의 두 코드는 동일하다."
   ]
  },
  {
   "cell_type": "markdown",
   "metadata": {},
   "source": [
    "데코레이터 내부 코드는 이번 레시피 wrapper() 함수에 나왔던 것처럼 \\*args와 \\**kwargs로 매개변수를 받는 새로운 함수를 생성하는 것과 관련이 있다. 이 함수에서 원본 입력 함수를 호출하고 결과를 반환한다. 하지만, 추가적인 코드(타이밍 등)를 부팅ㄹ 수 있다. 새롭게 생성한 함수 wrapper가 결과로 반환되고 원본 함수를 대신한다.\n",
    "\n",
    "데코레이터는 일반적으로 호출 시그니처나 감싸고 있는 함수의 반환 값을 수정하지 않는다는 점이 중요하다. 그리고 어떠한 입력 인자라도 받을 수 있도록 \\*args와 \\**args를 사용햇다. 데코레이터 반환 값은 대부분 func(\\*args, \\**kwargs)를 호출한 결과 값이 되고, 이 때 func는 감싸지 않은 원본 함수이다."
   ]
  },
  {
   "cell_type": "code",
   "execution_count": null,
   "metadata": {},
   "outputs": [],
   "source": []
  }
 ],
 "metadata": {
  "kernelspec": {
   "display_name": "Python 3",
   "language": "python",
   "name": "python3"
  },
  "language_info": {
   "codemirror_mode": {
    "name": "ipython",
    "version": 3
   },
   "file_extension": ".py",
   "mimetype": "text/x-python",
   "name": "python",
   "nbconvert_exporter": "python",
   "pygments_lexer": "ipython3",
   "version": "3.6.6"
  }
 },
 "nbformat": 4,
 "nbformat_minor": 2
}
